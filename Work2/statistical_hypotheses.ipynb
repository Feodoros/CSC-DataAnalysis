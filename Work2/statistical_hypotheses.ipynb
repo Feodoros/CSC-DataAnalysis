{
 "cells": [
  {
   "cell_type": "code",
   "execution_count": 1,
   "id": "6294814d",
   "metadata": {},
   "outputs": [],
   "source": [
    "import numpy as np\n",
    "import pandas as pd\n",
    "import matplotlib.pyplot as plt\n",
    "import seaborn as sns\n",
    "\n",
    "from scipy import stats\n",
    "\n",
    "plt.style.use('seaborn')"
   ]
  },
  {
   "cell_type": "markdown",
   "id": "66771fa5",
   "metadata": {},
   "source": [
    "# Nursing Home Data"
   ]
  },
  {
   "cell_type": "markdown",
   "id": "973d33a6",
   "metadata": {},
   "source": [
    "## Загружаем данные"
   ]
  },
  {
   "cell_type": "code",
   "execution_count": 2,
   "id": "6d556fb3",
   "metadata": {
    "scrolled": true
   },
   "outputs": [
    {
     "data": {
      "text/html": [
       "<div>\n",
       "<style scoped>\n",
       "    .dataframe tbody tr th:only-of-type {\n",
       "        vertical-align: middle;\n",
       "    }\n",
       "\n",
       "    .dataframe tbody tr th {\n",
       "        vertical-align: top;\n",
       "    }\n",
       "\n",
       "    .dataframe thead th {\n",
       "        text-align: right;\n",
       "    }\n",
       "</style>\n",
       "<table border=\"1\" class=\"dataframe\">\n",
       "  <thead>\n",
       "    <tr style=\"text-align: right;\">\n",
       "      <th></th>\n",
       "      <th>BED</th>\n",
       "      <th>MCDAYS</th>\n",
       "      <th>TDAYS</th>\n",
       "      <th>PCREV</th>\n",
       "      <th>NSAL</th>\n",
       "      <th>FEXP</th>\n",
       "      <th>RURAL</th>\n",
       "    </tr>\n",
       "  </thead>\n",
       "  <tbody>\n",
       "    <tr>\n",
       "      <th>0</th>\n",
       "      <td>244</td>\n",
       "      <td>128</td>\n",
       "      <td>385</td>\n",
       "      <td>23521</td>\n",
       "      <td>5230</td>\n",
       "      <td>5334</td>\n",
       "      <td>0</td>\n",
       "    </tr>\n",
       "    <tr>\n",
       "      <th>1</th>\n",
       "      <td>59</td>\n",
       "      <td>155</td>\n",
       "      <td>203</td>\n",
       "      <td>9160</td>\n",
       "      <td>2459</td>\n",
       "      <td>493</td>\n",
       "      <td>1</td>\n",
       "    </tr>\n",
       "    <tr>\n",
       "      <th>2</th>\n",
       "      <td>120</td>\n",
       "      <td>281</td>\n",
       "      <td>392</td>\n",
       "      <td>21900</td>\n",
       "      <td>6304</td>\n",
       "      <td>6115</td>\n",
       "      <td>0</td>\n",
       "    </tr>\n",
       "    <tr>\n",
       "      <th>3</th>\n",
       "      <td>120</td>\n",
       "      <td>291</td>\n",
       "      <td>419</td>\n",
       "      <td>22354</td>\n",
       "      <td>6590</td>\n",
       "      <td>6346</td>\n",
       "      <td>0</td>\n",
       "    </tr>\n",
       "    <tr>\n",
       "      <th>4</th>\n",
       "      <td>120</td>\n",
       "      <td>238</td>\n",
       "      <td>363</td>\n",
       "      <td>17421</td>\n",
       "      <td>5362</td>\n",
       "      <td>6225</td>\n",
       "      <td>0</td>\n",
       "    </tr>\n",
       "  </tbody>\n",
       "</table>\n",
       "</div>"
      ],
      "text/plain": [
       "   BED  MCDAYS  TDAYS  PCREV  NSAL  FEXP  RURAL\n",
       "0  244     128    385  23521  5230  5334      0\n",
       "1   59     155    203   9160  2459   493      1\n",
       "2  120     281    392  21900  6304  6115      0\n",
       "3  120     291    419  22354  6590  6346      0\n",
       "4  120     238    363  17421  5362  6225      0"
      ]
     },
     "execution_count": 2,
     "metadata": {},
     "output_type": "execute_result"
    }
   ],
   "source": [
    "df = pd.read_csv(\"./Nursing Home Data_data\", sep='\\s+')\n",
    "X = df.to_numpy()\n",
    "df.head()"
   ]
  },
  {
   "cell_type": "code",
   "execution_count": 3,
   "id": "fee0c2fd",
   "metadata": {},
   "outputs": [
    {
     "data": {
      "text/html": [
       "<div>\n",
       "<style scoped>\n",
       "    .dataframe tbody tr th:only-of-type {\n",
       "        vertical-align: middle;\n",
       "    }\n",
       "\n",
       "    .dataframe tbody tr th {\n",
       "        vertical-align: top;\n",
       "    }\n",
       "\n",
       "    .dataframe thead th {\n",
       "        text-align: right;\n",
       "    }\n",
       "</style>\n",
       "<table border=\"1\" class=\"dataframe\">\n",
       "  <thead>\n",
       "    <tr style=\"text-align: right;\">\n",
       "      <th></th>\n",
       "      <th>BED</th>\n",
       "      <th>MCDAYS</th>\n",
       "      <th>TDAYS</th>\n",
       "      <th>PCREV</th>\n",
       "      <th>NSAL</th>\n",
       "      <th>FEXP</th>\n",
       "      <th>RURAL</th>\n",
       "    </tr>\n",
       "  </thead>\n",
       "  <tbody>\n",
       "    <tr>\n",
       "      <th>count</th>\n",
       "      <td>52.000000</td>\n",
       "      <td>52.000000</td>\n",
       "      <td>52.000000</td>\n",
       "      <td>52.000000</td>\n",
       "      <td>52.000000</td>\n",
       "      <td>52.000000</td>\n",
       "      <td>52.000000</td>\n",
       "    </tr>\n",
       "    <tr>\n",
       "      <th>mean</th>\n",
       "      <td>93.269231</td>\n",
       "      <td>183.865385</td>\n",
       "      <td>280.173077</td>\n",
       "      <td>14210.134615</td>\n",
       "      <td>3812.826923</td>\n",
       "      <td>2847.538462</td>\n",
       "      <td>0.653846</td>\n",
       "    </tr>\n",
       "    <tr>\n",
       "      <th>std</th>\n",
       "      <td>40.852732</td>\n",
       "      <td>87.029639</td>\n",
       "      <td>120.847128</td>\n",
       "      <td>6973.756475</td>\n",
       "      <td>1659.481076</td>\n",
       "      <td>1949.029034</td>\n",
       "      <td>0.480384</td>\n",
       "    </tr>\n",
       "    <tr>\n",
       "      <th>min</th>\n",
       "      <td>25.000000</td>\n",
       "      <td>48.000000</td>\n",
       "      <td>83.000000</td>\n",
       "      <td>2853.000000</td>\n",
       "      <td>1288.000000</td>\n",
       "      <td>137.000000</td>\n",
       "      <td>0.000000</td>\n",
       "    </tr>\n",
       "    <tr>\n",
       "      <th>25%</th>\n",
       "      <td>62.000000</td>\n",
       "      <td>125.250000</td>\n",
       "      <td>198.000000</td>\n",
       "      <td>8857.000000</td>\n",
       "      <td>2336.500000</td>\n",
       "      <td>1229.250000</td>\n",
       "      <td>0.000000</td>\n",
       "    </tr>\n",
       "    <tr>\n",
       "      <th>50%</th>\n",
       "      <td>88.000000</td>\n",
       "      <td>164.500000</td>\n",
       "      <td>279.000000</td>\n",
       "      <td>12384.000000</td>\n",
       "      <td>3696.000000</td>\n",
       "      <td>2377.500000</td>\n",
       "      <td>1.000000</td>\n",
       "    </tr>\n",
       "    <tr>\n",
       "      <th>75%</th>\n",
       "      <td>120.000000</td>\n",
       "      <td>229.000000</td>\n",
       "      <td>363.750000</td>\n",
       "      <td>18777.250000</td>\n",
       "      <td>4840.000000</td>\n",
       "      <td>4443.750000</td>\n",
       "      <td>1.000000</td>\n",
       "    </tr>\n",
       "    <tr>\n",
       "      <th>max</th>\n",
       "      <td>244.000000</td>\n",
       "      <td>514.000000</td>\n",
       "      <td>776.000000</td>\n",
       "      <td>36029.000000</td>\n",
       "      <td>7489.000000</td>\n",
       "      <td>6442.000000</td>\n",
       "      <td>1.000000</td>\n",
       "    </tr>\n",
       "  </tbody>\n",
       "</table>\n",
       "</div>"
      ],
      "text/plain": [
       "              BED      MCDAYS       TDAYS         PCREV         NSAL  \\\n",
       "count   52.000000   52.000000   52.000000     52.000000    52.000000   \n",
       "mean    93.269231  183.865385  280.173077  14210.134615  3812.826923   \n",
       "std     40.852732   87.029639  120.847128   6973.756475  1659.481076   \n",
       "min     25.000000   48.000000   83.000000   2853.000000  1288.000000   \n",
       "25%     62.000000  125.250000  198.000000   8857.000000  2336.500000   \n",
       "50%     88.000000  164.500000  279.000000  12384.000000  3696.000000   \n",
       "75%    120.000000  229.000000  363.750000  18777.250000  4840.000000   \n",
       "max    244.000000  514.000000  776.000000  36029.000000  7489.000000   \n",
       "\n",
       "              FEXP      RURAL  \n",
       "count    52.000000  52.000000  \n",
       "mean   2847.538462   0.653846  \n",
       "std    1949.029034   0.480384  \n",
       "min     137.000000   0.000000  \n",
       "25%    1229.250000   0.000000  \n",
       "50%    2377.500000   1.000000  \n",
       "75%    4443.750000   1.000000  \n",
       "max    6442.000000   1.000000  "
      ]
     },
     "execution_count": 3,
     "metadata": {},
     "output_type": "execute_result"
    }
   ],
   "source": [
    "df.describe()"
   ]
  },
  {
   "cell_type": "code",
   "execution_count": 4,
   "id": "153b079f",
   "metadata": {},
   "outputs": [],
   "source": [
    "suburban_nsal = df[df['RURAL'] == 1]['NSAL']\n",
    "city_nsal = df[df['RURAL'] == 0]['NSAL']\n",
    "suburban_nsal.name, city_nsal.name = 'suburban', 'city'"
   ]
  },
  {
   "cell_type": "markdown",
   "id": "5146cd49",
   "metadata": {},
   "source": [
    "## Построим гистограмму"
   ]
  },
  {
   "cell_type": "code",
   "execution_count": 5,
   "id": "982fc6c9",
   "metadata": {},
   "outputs": [],
   "source": [
    "def two_histograms(x, y):\n",
    "    x.hist(alpha=0.5, weights=[1./len(x)]*len(x), bins=10)\n",
    "    y.hist(alpha=0.5, weights=[1./len(y)]*len(y), bins=10)\n",
    "    plt.axvline(x.mean(), color='red', alpha=0.8, linestyle='dashed')\n",
    "    plt.axvline(y.mean(), color='blue', alpha=0.8, linestyle='dashed')\n",
    "    plt.legend([x.name, y.name])"
   ]
  },
  {
   "cell_type": "code",
   "execution_count": 6,
   "id": "bdb1ed28",
   "metadata": {},
   "outputs": [
    {
     "data": {
      "image/png": "[encoded data removed]",
      "text/plain": [
       "<Figure size 576x396 with 1 Axes>"
      ]
     },
     "metadata": {},
     "output_type": "display_data"
    }
   ],
   "source": [
    "two_histograms(city_nsal, suburban_nsal)"
   ]
  },
  {
   "cell_type": "markdown",
   "id": "7f94ade7",
   "metadata": {},
   "source": [
    "## Проверим распределение на нормальность"
   ]
  },
  {
   "cell_type": "markdown",
   "id": "e40333bd",
   "metadata": {},
   "source": [
    "Для проверки гипотезы о нормальности распределения воспользуемся **критерием Шапиро-Уилка:**"
   ]
  },
  {
   "cell_type": "code",
   "execution_count": 7,
   "id": "804d8b37",
   "metadata": {},
   "outputs": [
    {
     "data": {
      "text/plain": [
       "0.267"
      ]
     },
     "execution_count": 7,
     "metadata": {},
     "output_type": "execute_result"
    }
   ],
   "source": [
    "round(stats.shapiro(city_nsal)[1], 3)"
   ]
  },
  {
   "cell_type": "code",
   "execution_count": 8,
   "id": "f111d949",
   "metadata": {},
   "outputs": [
    {
     "data": {
      "text/plain": [
       "0.072"
      ]
     },
     "execution_count": 8,
     "metadata": {},
     "output_type": "execute_result"
    }
   ],
   "source": [
    "round(stats.shapiro(suburban_nsal)[1], 3)"
   ]
  },
  {
   "cell_type": "markdown",
   "id": "5b5020e3",
   "metadata": {},
   "source": [
    "Из полученных данных видно, что нулевая гипотеза о принадлежности нормальному распределению **не отвергается** (считаем уровень значимости $\\alpha = 0.05$).\n",
    "\n",
    "Поскольку в двух выборках находятся разные объекты, можем сделать вывод, что выборки независимые. Следовательно, будем пользоваться **критерием Стьюдента:**"
   ]
  },
  {
   "cell_type": "code",
   "execution_count": 10,
   "id": "d6f06e6e",
   "metadata": {},
   "outputs": [
    {
     "name": "stdout",
     "output_type": "stream",
     "text": [
      "p-value 1: 0.0003\n",
      "p-value 2: 0.0005\n"
     ]
    }
   ],
   "source": [
    "res = stats.ttest_ind(city_nsal, suburban_nsal, equal_var=True)\n",
    "print('p-value 1:', round(res[1]/2, 4))\n",
    "print('p-value 2:', round(res[1], 4))"
   ]
  },
  {
   "cell_type": "markdown",
   "id": "5a26e5f0",
   "metadata": {},
   "source": [
    "Заметим, что значение p-value для одностороннего и для двустороннего теста меньше уровня значимости $\\Rightarrow$ **можем отвергнуть нулевую гипотезу**.\n",
    "\n",
    "Построим ящиковую диаграмму:"
   ]
  },
  {
   "cell_type": "code",
   "execution_count": 11,
   "id": "ebe29a6f",
   "metadata": {},
   "outputs": [
    {
     "data": {
      "image/png": "[encoded data removed]",
      "text/plain": [
       "<Figure size 576x396 with 1 Axes>"
      ]
     },
     "metadata": {},
     "output_type": "display_data"
    }
   ],
   "source": [
    "sns.boxplot(x='RURAL', y=\"NSAL\", data=df)\n",
    "plt.show()"
   ]
  },
  {
   "cell_type": "markdown",
   "id": "eba04e76",
   "metadata": {},
   "source": [
    "**Вывод:** средняя зарплата медсестры городской больницы выше, чем у медсестры загородной больницы."
   ]
  },
  {
   "cell_type": "markdown",
   "id": "58da18ca",
   "metadata": {},
   "source": [
    "# Unions and State Labor Law"
   ]
  },
  {
   "cell_type": "markdown",
   "id": "bbeaeace",
   "metadata": {},
   "source": [
    "## Загружаем данные"
   ]
  },
  {
   "cell_type": "code",
   "execution_count": 12,
   "id": "960525c7",
   "metadata": {},
   "outputs": [
    {
     "data": {
      "text/html": [
       "<div>\n",
       "<style scoped>\n",
       "    .dataframe tbody tr th:only-of-type {\n",
       "        vertical-align: middle;\n",
       "    }\n",
       "\n",
       "    .dataframe tbody tr th {\n",
       "        vertical-align: top;\n",
       "    }\n",
       "\n",
       "    .dataframe thead th {\n",
       "        text-align: right;\n",
       "    }\n",
       "</style>\n",
       "<table border=\"1\" class=\"dataframe\">\n",
       "  <thead>\n",
       "    <tr style=\"text-align: right;\">\n",
       "      <th></th>\n",
       "      <th>STATE</th>\n",
       "      <th>DENS</th>\n",
       "      <th>COMP</th>\n",
       "      <th>RTW</th>\n",
       "      <th>PVT</th>\n",
       "    </tr>\n",
       "  </thead>\n",
       "  <tbody>\n",
       "    <tr>\n",
       "      <th>0</th>\n",
       "      <td>NY</td>\n",
       "      <td>56.9</td>\n",
       "      <td>1</td>\n",
       "      <td>0</td>\n",
       "      <td>31.2</td>\n",
       "    </tr>\n",
       "    <tr>\n",
       "      <th>1</th>\n",
       "      <td>MI</td>\n",
       "      <td>49.6</td>\n",
       "      <td>1</td>\n",
       "      <td>0</td>\n",
       "      <td>30.2</td>\n",
       "    </tr>\n",
       "    <tr>\n",
       "      <th>2</th>\n",
       "      <td>WA</td>\n",
       "      <td>32.4</td>\n",
       "      <td>1</td>\n",
       "      <td>0</td>\n",
       "      <td>33.1</td>\n",
       "    </tr>\n",
       "    <tr>\n",
       "      <th>3</th>\n",
       "      <td>HI</td>\n",
       "      <td>54.6</td>\n",
       "      <td>1</td>\n",
       "      <td>0</td>\n",
       "      <td>24.7</td>\n",
       "    </tr>\n",
       "    <tr>\n",
       "      <th>4</th>\n",
       "      <td>AK</td>\n",
       "      <td>30.7</td>\n",
       "      <td>1</td>\n",
       "      <td>0</td>\n",
       "      <td>30.1</td>\n",
       "    </tr>\n",
       "  </tbody>\n",
       "</table>\n",
       "</div>"
      ],
      "text/plain": [
       "    STATE  DENS  COMP  RTW   PVT\n",
       "0      NY  56.9     1    0  31.2\n",
       "1      MI  49.6     1    0  30.2\n",
       "2      WA  32.4     1    0  33.1\n",
       "3      HI  54.6     1    0  24.7\n",
       "4      AK  30.7     1    0  30.1"
      ]
     },
     "execution_count": 12,
     "metadata": {},
     "output_type": "execute_result"
    }
   ],
   "source": [
    "df = pd.read_csv(\"./Unions and State Labor Law_data\", sep='\\t')\n",
    "X = df.to_numpy()\n",
    "df.head()"
   ]
  },
  {
   "cell_type": "code",
   "execution_count": 13,
   "id": "6b357dca",
   "metadata": {},
   "outputs": [
    {
     "data": {
      "text/html": [
       "<div>\n",
       "<style scoped>\n",
       "    .dataframe tbody tr th:only-of-type {\n",
       "        vertical-align: middle;\n",
       "    }\n",
       "\n",
       "    .dataframe tbody tr th {\n",
       "        vertical-align: top;\n",
       "    }\n",
       "\n",
       "    .dataframe thead th {\n",
       "        text-align: right;\n",
       "    }\n",
       "</style>\n",
       "<table border=\"1\" class=\"dataframe\">\n",
       "  <thead>\n",
       "    <tr style=\"text-align: right;\">\n",
       "      <th></th>\n",
       "      <th>DENS</th>\n",
       "      <th>COMP</th>\n",
       "      <th>RTW</th>\n",
       "      <th>PVT</th>\n",
       "    </tr>\n",
       "  </thead>\n",
       "  <tbody>\n",
       "    <tr>\n",
       "      <th>count</th>\n",
       "      <td>50.000000</td>\n",
       "      <td>50.000000</td>\n",
       "      <td>50.000000</td>\n",
       "      <td>50.000000</td>\n",
       "    </tr>\n",
       "    <tr>\n",
       "      <th>mean</th>\n",
       "      <td>33.320000</td>\n",
       "      <td>0.540000</td>\n",
       "      <td>0.400000</td>\n",
       "      <td>16.050000</td>\n",
       "    </tr>\n",
       "    <tr>\n",
       "      <th>std</th>\n",
       "      <td>11.506343</td>\n",
       "      <td>0.503457</td>\n",
       "      <td>0.494872</td>\n",
       "      <td>7.831263</td>\n",
       "    </tr>\n",
       "    <tr>\n",
       "      <th>min</th>\n",
       "      <td>13.400000</td>\n",
       "      <td>0.000000</td>\n",
       "      <td>0.000000</td>\n",
       "      <td>3.900000</td>\n",
       "    </tr>\n",
       "    <tr>\n",
       "      <th>25%</th>\n",
       "      <td>25.175000</td>\n",
       "      <td>0.000000</td>\n",
       "      <td>0.000000</td>\n",
       "      <td>9.950000</td>\n",
       "    </tr>\n",
       "    <tr>\n",
       "      <th>50%</th>\n",
       "      <td>31.850000</td>\n",
       "      <td>1.000000</td>\n",
       "      <td>0.000000</td>\n",
       "      <td>14.150000</td>\n",
       "    </tr>\n",
       "    <tr>\n",
       "      <th>75%</th>\n",
       "      <td>40.650000</td>\n",
       "      <td>1.000000</td>\n",
       "      <td>1.000000</td>\n",
       "      <td>22.875000</td>\n",
       "    </tr>\n",
       "    <tr>\n",
       "      <th>max</th>\n",
       "      <td>61.100000</td>\n",
       "      <td>1.000000</td>\n",
       "      <td>1.000000</td>\n",
       "      <td>33.100000</td>\n",
       "    </tr>\n",
       "  </tbody>\n",
       "</table>\n",
       "</div>"
      ],
      "text/plain": [
       "            DENS       COMP        RTW        PVT\n",
       "count  50.000000  50.000000  50.000000  50.000000\n",
       "mean   33.320000   0.540000   0.400000  16.050000\n",
       "std    11.506343   0.503457   0.494872   7.831263\n",
       "min    13.400000   0.000000   0.000000   3.900000\n",
       "25%    25.175000   0.000000   0.000000   9.950000\n",
       "50%    31.850000   1.000000   0.000000  14.150000\n",
       "75%    40.650000   1.000000   1.000000  22.875000\n",
       "max    61.100000   1.000000   1.000000  33.100000"
      ]
     },
     "execution_count": 13,
     "metadata": {},
     "output_type": "execute_result"
    }
   ],
   "source": [
    "df.describe()"
   ]
  },
  {
   "cell_type": "code",
   "execution_count": 15,
   "id": "51a531ad",
   "metadata": {},
   "outputs": [],
   "source": [
    "comp = df[df['COMP'] == 1]['DENS']\n",
    "not_comp = df[df['COMP'] == 0]['DENS']\n",
    "comp.name, not_comp.name = 'COMP', 'NOT COMP'"
   ]
  },
  {
   "cell_type": "markdown",
   "id": "2309d3f2",
   "metadata": {},
   "source": [
    "## Построим гистограмму"
   ]
  },
  {
   "cell_type": "code",
   "execution_count": 16,
   "id": "563eb50b",
   "metadata": {},
   "outputs": [
    {
     "data": {
      "image/png": "[encoded data removed]",
      "text/plain": [
       "<Figure size 576x396 with 1 Axes>"
      ]
     },
     "metadata": {},
     "output_type": "display_data"
    }
   ],
   "source": [
    "two_histograms(comp, not_comp)"
   ]
  },
  {
   "cell_type": "markdown",
   "id": "17def44a",
   "metadata": {},
   "source": [
    "## Проверим распределение на нормальность"
   ]
  },
  {
   "cell_type": "markdown",
   "id": "aa48159d",
   "metadata": {},
   "source": [
    "Воспользуемся **критерием Шапиро-Уилка** для проверки гипотезы о нормальности распределения:"
   ]
  },
  {
   "cell_type": "code",
   "execution_count": 17,
   "id": "5e4c3121",
   "metadata": {},
   "outputs": [
    {
     "data": {
      "text/plain": [
       "0.74"
      ]
     },
     "execution_count": 17,
     "metadata": {},
     "output_type": "execute_result"
    }
   ],
   "source": [
    "round(stats.shapiro(comp)[1], 3)"
   ]
  },
  {
   "cell_type": "code",
   "execution_count": 18,
   "id": "5792bf49",
   "metadata": {},
   "outputs": [
    {
     "data": {
      "text/plain": [
       "0.943"
      ]
     },
     "execution_count": 18,
     "metadata": {},
     "output_type": "execute_result"
    }
   ],
   "source": [
    "round(stats.shapiro(not_comp)[1], 3)"
   ]
  },
  {
   "cell_type": "markdown",
   "id": "99a04019",
   "metadata": {},
   "source": [
    "Видно, что нулевая гипотеза о принадлежности нормальному распределению **не отвергается**. \n",
    "\n",
    "Поскольку в двух выборках находятся разные объекты, можем сделать вывод, что выборки независимые. Следовательно, будем пользоваться **критерием Стьюдента:**"
   ]
  },
  {
   "cell_type": "code",
   "execution_count": 19,
   "id": "57d3a8c9",
   "metadata": {},
   "outputs": [
    {
     "name": "stdout",
     "output_type": "stream",
     "text": [
      "p-value 1: 0.0003\n",
      "p-value 2: 0.0006\n"
     ]
    }
   ],
   "source": [
    "res = stats.ttest_ind(comp, not_comp, equal_var=False)\n",
    "print('p-value 1:', round(res[1]/2, 4))\n",
    "print('p-value 2:', round(res[1], 4))"
   ]
  },
  {
   "cell_type": "markdown",
   "id": "8b84d9ec",
   "metadata": {},
   "source": [
    "Заметим, что значение p-value для одностороннего и для двустороннего теста меньше уровня значимости $\\Rightarrow$ **можем отвергнуть нулевую гипотезу**.\n",
    "\n",
    "Построим ящиковую диаграмму:"
   ]
  },
  {
   "cell_type": "code",
   "execution_count": 20,
   "id": "65f2f308",
   "metadata": {},
   "outputs": [
    {
     "data": {
      "image/png": "[encoded data removed]",
      "text/plain": [
       "<Figure size 576x396 with 1 Axes>"
      ]
     },
     "metadata": {},
     "output_type": "display_data"
    }
   ],
   "source": [
    "sns.boxplot(x='COMP', y=\"DENS\", data=df)\n",
    "plt.show()"
   ]
  },
  {
   "cell_type": "markdown",
   "id": "3a673c5d",
   "metadata": {},
   "source": [
    "**Вывод:** средний процент муниципальных служащих, состоящих в профсоюзах в 1982 году больше в штатах, в которых действует закон *State bargaining laws*."
   ]
  },
  {
   "cell_type": "code",
   "execution_count": null,
   "id": "b1fb5b40",
   "metadata": {},
   "outputs": [],
   "source": []
  }
 ],
 "metadata": {
  "kernelspec": {
   "display_name": "Python 3",
   "language": "python",
   "name": "python3"
  },
  "language_info": {
   "codemirror_mode": {
    "name": "ipython",
    "version": 3
   },
   "file_extension": ".py",
   "mimetype": "text/x-python",
   "name": "python",
   "nbconvert_exporter": "python",
   "pygments_lexer": "ipython3",
   "version": "3.8.8"
  },
  "toc": {
   "base_numbering": 1,
   "nav_menu": {},
   "number_sections": true,
   "sideBar": true,
   "skip_h1_title": false,
   "title_cell": "Table of Contents",
   "title_sidebar": "Contents",
   "toc_cell": false,
   "toc_position": {},
   "toc_section_display": true,
   "toc_window_display": false
  },
  "varInspector": {
   "cols": {
    "lenName": 16,
    "lenType": 16,
    "lenVar": 40
   },
   "kernels_config": {
    "python": {
     "delete_cmd_postfix": "",
     "delete_cmd_prefix": "del ",
     "library": "var_list.py",
     "varRefreshCmd": "print(var_dic_list())"
    },
    "r": {
     "delete_cmd_postfix": ") ",
     "delete_cmd_prefix": "rm(",
     "library": "var_list.r",
     "varRefreshCmd": "cat(var_dic_list()) "
    }
   },
   "types_to_exclude": [
    "module",
    "function",
    "builtin_function_or_method",
    "instance",
    "_Feature"
   ],
   "window_display": false
  }
 },
 "nbformat": 4,
 "nbformat_minor": 5
}
