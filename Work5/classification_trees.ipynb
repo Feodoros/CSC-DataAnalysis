{
 "cells": [
  {
   "cell_type": "code",
   "execution_count": 1,
   "id": "21d0256a",
   "metadata": {},
   "outputs": [],
   "source": [
    "import numpy as np\n",
    "import pandas as pd\n",
    "\n",
    "import matplotlib\n",
    "import matplotlib.pyplot as plt\n",
    "\n",
    "plt.style.use('seaborn')\n",
    "%matplotlib inline\n",
    "\n",
    "from sklearn.model_selection import GridSearchCV\n",
    "from sklearn.metrics import confusion_matrix, f1_score, classification_report\n",
    "\n",
    "import os"
   ]
  },
  {
   "cell_type": "markdown",
   "id": "d9258cd1",
   "metadata": {},
   "source": [
    "# Работа с данными"
   ]
  },
  {
   "cell_type": "markdown",
   "id": "1d034f85",
   "metadata": {},
   "source": [
    "## Иморт данных"
   ]
  },
  {
   "cell_type": "code",
   "execution_count": 2,
   "id": "839f84a1",
   "metadata": {},
   "outputs": [],
   "source": [
    "data = pd.read_csv('bank-full.csv', sep=';')"
   ]
  },
  {
   "cell_type": "code",
   "execution_count": 3,
   "id": "feb4cf2c",
   "metadata": {},
   "outputs": [
    {
     "data": {
      "text/html": [
       "<div>\n",
       "<style scoped>\n",
       "    .dataframe tbody tr th:only-of-type {\n",
       "        vertical-align: middle;\n",
       "    }\n",
       "\n",
       "    .dataframe tbody tr th {\n",
       "        vertical-align: top;\n",
       "    }\n",
       "\n",
       "    .dataframe thead th {\n",
       "        text-align: right;\n",
       "    }\n",
       "</style>\n",
       "<table border=\"1\" class=\"dataframe\">\n",
       "  <thead>\n",
       "    <tr style=\"text-align: right;\">\n",
       "      <th></th>\n",
       "      <th>age</th>\n",
       "      <th>job</th>\n",
       "      <th>marital</th>\n",
       "      <th>education</th>\n",
       "      <th>default</th>\n",
       "      <th>balance</th>\n",
       "      <th>housing</th>\n",
       "      <th>loan</th>\n",
       "      <th>contact</th>\n",
       "      <th>day</th>\n",
       "      <th>month</th>\n",
       "      <th>duration</th>\n",
       "      <th>campaign</th>\n",
       "      <th>pdays</th>\n",
       "      <th>previous</th>\n",
       "      <th>poutcome</th>\n",
       "      <th>y</th>\n",
       "    </tr>\n",
       "  </thead>\n",
       "  <tbody>\n",
       "    <tr>\n",
       "      <th>0</th>\n",
       "      <td>58</td>\n",
       "      <td>management</td>\n",
       "      <td>married</td>\n",
       "      <td>tertiary</td>\n",
       "      <td>no</td>\n",
       "      <td>2143</td>\n",
       "      <td>yes</td>\n",
       "      <td>no</td>\n",
       "      <td>unknown</td>\n",
       "      <td>5</td>\n",
       "      <td>may</td>\n",
       "      <td>261</td>\n",
       "      <td>1</td>\n",
       "      <td>-1</td>\n",
       "      <td>0</td>\n",
       "      <td>unknown</td>\n",
       "      <td>no</td>\n",
       "    </tr>\n",
       "    <tr>\n",
       "      <th>1</th>\n",
       "      <td>44</td>\n",
       "      <td>technician</td>\n",
       "      <td>single</td>\n",
       "      <td>secondary</td>\n",
       "      <td>no</td>\n",
       "      <td>29</td>\n",
       "      <td>yes</td>\n",
       "      <td>no</td>\n",
       "      <td>unknown</td>\n",
       "      <td>5</td>\n",
       "      <td>may</td>\n",
       "      <td>151</td>\n",
       "      <td>1</td>\n",
       "      <td>-1</td>\n",
       "      <td>0</td>\n",
       "      <td>unknown</td>\n",
       "      <td>no</td>\n",
       "    </tr>\n",
       "    <tr>\n",
       "      <th>2</th>\n",
       "      <td>33</td>\n",
       "      <td>entrepreneur</td>\n",
       "      <td>married</td>\n",
       "      <td>secondary</td>\n",
       "      <td>no</td>\n",
       "      <td>2</td>\n",
       "      <td>yes</td>\n",
       "      <td>yes</td>\n",
       "      <td>unknown</td>\n",
       "      <td>5</td>\n",
       "      <td>may</td>\n",
       "      <td>76</td>\n",
       "      <td>1</td>\n",
       "      <td>-1</td>\n",
       "      <td>0</td>\n",
       "      <td>unknown</td>\n",
       "      <td>no</td>\n",
       "    </tr>\n",
       "    <tr>\n",
       "      <th>3</th>\n",
       "      <td>47</td>\n",
       "      <td>blue-collar</td>\n",
       "      <td>married</td>\n",
       "      <td>unknown</td>\n",
       "      <td>no</td>\n",
       "      <td>1506</td>\n",
       "      <td>yes</td>\n",
       "      <td>no</td>\n",
       "      <td>unknown</td>\n",
       "      <td>5</td>\n",
       "      <td>may</td>\n",
       "      <td>92</td>\n",
       "      <td>1</td>\n",
       "      <td>-1</td>\n",
       "      <td>0</td>\n",
       "      <td>unknown</td>\n",
       "      <td>no</td>\n",
       "    </tr>\n",
       "    <tr>\n",
       "      <th>4</th>\n",
       "      <td>33</td>\n",
       "      <td>unknown</td>\n",
       "      <td>single</td>\n",
       "      <td>unknown</td>\n",
       "      <td>no</td>\n",
       "      <td>1</td>\n",
       "      <td>no</td>\n",
       "      <td>no</td>\n",
       "      <td>unknown</td>\n",
       "      <td>5</td>\n",
       "      <td>may</td>\n",
       "      <td>198</td>\n",
       "      <td>1</td>\n",
       "      <td>-1</td>\n",
       "      <td>0</td>\n",
       "      <td>unknown</td>\n",
       "      <td>no</td>\n",
       "    </tr>\n",
       "  </tbody>\n",
       "</table>\n",
       "</div>"
      ],
      "text/plain": [
       "   age           job  marital  education default  balance housing loan  \\\n",
       "0   58    management  married   tertiary      no     2143     yes   no   \n",
       "1   44    technician   single  secondary      no       29     yes   no   \n",
       "2   33  entrepreneur  married  secondary      no        2     yes  yes   \n",
       "3   47   blue-collar  married    unknown      no     1506     yes   no   \n",
       "4   33       unknown   single    unknown      no        1      no   no   \n",
       "\n",
       "   contact  day month  duration  campaign  pdays  previous poutcome   y  \n",
       "0  unknown    5   may       261         1     -1         0  unknown  no  \n",
       "1  unknown    5   may       151         1     -1         0  unknown  no  \n",
       "2  unknown    5   may        76         1     -1         0  unknown  no  \n",
       "3  unknown    5   may        92         1     -1         0  unknown  no  \n",
       "4  unknown    5   may       198         1     -1         0  unknown  no  "
      ]
     },
     "execution_count": 3,
     "metadata": {},
     "output_type": "execute_result"
    }
   ],
   "source": [
    "data.head()"
   ]
  },
  {
   "cell_type": "code",
   "execution_count": 4,
   "id": "0203441b",
   "metadata": {},
   "outputs": [
    {
     "data": {
      "text/plain": [
       "(45211, 17)"
      ]
     },
     "execution_count": 4,
     "metadata": {},
     "output_type": "execute_result"
    }
   ],
   "source": [
    "data.shape"
   ]
  },
  {
   "cell_type": "markdown",
   "id": "385527a7",
   "metadata": {},
   "source": [
    "## Подготовка данных"
   ]
  },
  {
   "cell_type": "markdown",
   "id": "f67593a9",
   "metadata": {},
   "source": [
    "### Чистка данных"
   ]
  },
  {
   "cell_type": "markdown",
   "id": "334b4b5a",
   "metadata": {},
   "source": [
    "Уберем данные с нулевой длительностью звонка:"
   ]
  },
  {
   "cell_type": "code",
   "execution_count": 5,
   "id": "36e97e54",
   "metadata": {},
   "outputs": [],
   "source": [
    "data.drop(data[data.duration == 0].index, inplace=True)"
   ]
  },
  {
   "cell_type": "markdown",
   "id": "5955e410",
   "metadata": {},
   "source": [
    "### Кодировка строковых данных"
   ]
  },
  {
   "cell_type": "markdown",
   "id": "eb98d34f",
   "metadata": {},
   "source": [
    "Закодируем строковые данные стандартным образом:"
   ]
  },
  {
   "cell_type": "code",
   "execution_count": 6,
   "id": "4fc69e46",
   "metadata": {},
   "outputs": [],
   "source": [
    "col_names = [\n",
    "    'job', 'marital', 'education', 'default', 'housing', 'loan', 'contact',\n",
    "    'month', 'poutcome', 'y'\n",
    "]\n",
    "\n",
    "for col in col_names:\n",
    "    data[col] = data[col].astype('category')\n",
    "    data[col] = data[col].cat.codes"
   ]
  },
  {
   "cell_type": "code",
   "execution_count": 7,
   "id": "4f0bdab5",
   "metadata": {},
   "outputs": [
    {
     "data": {
      "text/html": [
       "<div>\n",
       "<style scoped>\n",
       "    .dataframe tbody tr th:only-of-type {\n",
       "        vertical-align: middle;\n",
       "    }\n",
       "\n",
       "    .dataframe tbody tr th {\n",
       "        vertical-align: top;\n",
       "    }\n",
       "\n",
       "    .dataframe thead th {\n",
       "        text-align: right;\n",
       "    }\n",
       "</style>\n",
       "<table border=\"1\" class=\"dataframe\">\n",
       "  <thead>\n",
       "    <tr style=\"text-align: right;\">\n",
       "      <th></th>\n",
       "      <th>age</th>\n",
       "      <th>job</th>\n",
       "      <th>marital</th>\n",
       "      <th>education</th>\n",
       "      <th>default</th>\n",
       "      <th>balance</th>\n",
       "      <th>housing</th>\n",
       "      <th>loan</th>\n",
       "      <th>contact</th>\n",
       "      <th>day</th>\n",
       "      <th>month</th>\n",
       "      <th>duration</th>\n",
       "      <th>campaign</th>\n",
       "      <th>pdays</th>\n",
       "      <th>previous</th>\n",
       "      <th>poutcome</th>\n",
       "      <th>y</th>\n",
       "    </tr>\n",
       "  </thead>\n",
       "  <tbody>\n",
       "    <tr>\n",
       "      <th>0</th>\n",
       "      <td>58</td>\n",
       "      <td>4</td>\n",
       "      <td>1</td>\n",
       "      <td>2</td>\n",
       "      <td>0</td>\n",
       "      <td>2143</td>\n",
       "      <td>1</td>\n",
       "      <td>0</td>\n",
       "      <td>2</td>\n",
       "      <td>5</td>\n",
       "      <td>8</td>\n",
       "      <td>261</td>\n",
       "      <td>1</td>\n",
       "      <td>-1</td>\n",
       "      <td>0</td>\n",
       "      <td>3</td>\n",
       "      <td>0</td>\n",
       "    </tr>\n",
       "    <tr>\n",
       "      <th>1</th>\n",
       "      <td>44</td>\n",
       "      <td>9</td>\n",
       "      <td>2</td>\n",
       "      <td>1</td>\n",
       "      <td>0</td>\n",
       "      <td>29</td>\n",
       "      <td>1</td>\n",
       "      <td>0</td>\n",
       "      <td>2</td>\n",
       "      <td>5</td>\n",
       "      <td>8</td>\n",
       "      <td>151</td>\n",
       "      <td>1</td>\n",
       "      <td>-1</td>\n",
       "      <td>0</td>\n",
       "      <td>3</td>\n",
       "      <td>0</td>\n",
       "    </tr>\n",
       "    <tr>\n",
       "      <th>2</th>\n",
       "      <td>33</td>\n",
       "      <td>2</td>\n",
       "      <td>1</td>\n",
       "      <td>1</td>\n",
       "      <td>0</td>\n",
       "      <td>2</td>\n",
       "      <td>1</td>\n",
       "      <td>1</td>\n",
       "      <td>2</td>\n",
       "      <td>5</td>\n",
       "      <td>8</td>\n",
       "      <td>76</td>\n",
       "      <td>1</td>\n",
       "      <td>-1</td>\n",
       "      <td>0</td>\n",
       "      <td>3</td>\n",
       "      <td>0</td>\n",
       "    </tr>\n",
       "    <tr>\n",
       "      <th>3</th>\n",
       "      <td>47</td>\n",
       "      <td>1</td>\n",
       "      <td>1</td>\n",
       "      <td>3</td>\n",
       "      <td>0</td>\n",
       "      <td>1506</td>\n",
       "      <td>1</td>\n",
       "      <td>0</td>\n",
       "      <td>2</td>\n",
       "      <td>5</td>\n",
       "      <td>8</td>\n",
       "      <td>92</td>\n",
       "      <td>1</td>\n",
       "      <td>-1</td>\n",
       "      <td>0</td>\n",
       "      <td>3</td>\n",
       "      <td>0</td>\n",
       "    </tr>\n",
       "    <tr>\n",
       "      <th>4</th>\n",
       "      <td>33</td>\n",
       "      <td>11</td>\n",
       "      <td>2</td>\n",
       "      <td>3</td>\n",
       "      <td>0</td>\n",
       "      <td>1</td>\n",
       "      <td>0</td>\n",
       "      <td>0</td>\n",
       "      <td>2</td>\n",
       "      <td>5</td>\n",
       "      <td>8</td>\n",
       "      <td>198</td>\n",
       "      <td>1</td>\n",
       "      <td>-1</td>\n",
       "      <td>0</td>\n",
       "      <td>3</td>\n",
       "      <td>0</td>\n",
       "    </tr>\n",
       "  </tbody>\n",
       "</table>\n",
       "</div>"
      ],
      "text/plain": [
       "   age  job  marital  education  default  balance  housing  loan  contact  \\\n",
       "0   58    4        1          2        0     2143        1     0        2   \n",
       "1   44    9        2          1        0       29        1     0        2   \n",
       "2   33    2        1          1        0        2        1     1        2   \n",
       "3   47    1        1          3        0     1506        1     0        2   \n",
       "4   33   11        2          3        0        1        0     0        2   \n",
       "\n",
       "   day  month  duration  campaign  pdays  previous  poutcome  y  \n",
       "0    5      8       261         1     -1         0         3  0  \n",
       "1    5      8       151         1     -1         0         3  0  \n",
       "2    5      8        76         1     -1         0         3  0  \n",
       "3    5      8        92         1     -1         0         3  0  \n",
       "4    5      8       198         1     -1         0         3  0  "
      ]
     },
     "execution_count": 7,
     "metadata": {},
     "output_type": "execute_result"
    }
   ],
   "source": [
    "data.head()"
   ]
  },
  {
   "cell_type": "code",
   "execution_count": 8,
   "id": "37086cc6",
   "metadata": {},
   "outputs": [
    {
     "data": {
      "text/plain": [
       "(45208, 17)"
      ]
     },
     "execution_count": 8,
     "metadata": {},
     "output_type": "execute_result"
    }
   ],
   "source": [
    "data.shape"
   ]
  },
  {
   "cell_type": "markdown",
   "id": "38726bbc",
   "metadata": {},
   "source": [
    "### Балансирование выборки"
   ]
  },
  {
   "cell_type": "markdown",
   "id": "68e69c35",
   "metadata": {},
   "source": [
    "Разделим данные на предикторы и отклики:"
   ]
  },
  {
   "cell_type": "code",
   "execution_count": 9,
   "id": "b28e33fc",
   "metadata": {},
   "outputs": [],
   "source": [
    "X = data.iloc[:, :-1].values\n",
    "y = data.iloc[:, 16].values"
   ]
  },
  {
   "cell_type": "markdown",
   "id": "d551cbf9",
   "metadata": {},
   "source": [
    "Разделим данные на обучающее и тестовое множество:"
   ]
  },
  {
   "cell_type": "code",
   "execution_count": 10,
   "id": "4dea71fe",
   "metadata": {},
   "outputs": [],
   "source": [
    "from sklearn.model_selection import train_test_split"
   ]
  },
  {
   "cell_type": "code",
   "execution_count": 11,
   "id": "56a5b803",
   "metadata": {},
   "outputs": [],
   "source": [
    "X_train, X_test, y_train, y_test = train_test_split(X,\n",
    "                                                    y,\n",
    "                                                    test_size=0.33,\n",
    "                                                    random_state=123)"
   ]
  },
  {
   "cell_type": "markdown",
   "id": "28f22899",
   "metadata": {},
   "source": [
    "Сбалансирована ли выборка?"
   ]
  },
  {
   "cell_type": "code",
   "execution_count": 12,
   "id": "e834b1fc",
   "metadata": {},
   "outputs": [],
   "source": [
    "from collections import Counter"
   ]
  },
  {
   "cell_type": "code",
   "execution_count": 13,
   "id": "dce35573",
   "metadata": {},
   "outputs": [
    {
     "name": "stdout",
     "output_type": "stream",
     "text": [
      "Training target statistics: Counter({0: 26746, 1: 3543})\n",
      "Testing target statistics: Counter({0: 13173, 1: 1746})\n"
     ]
    }
   ],
   "source": [
    "print(f\"Training target statistics: {Counter(y_train)}\")\n",
    "print(f\"Testing target statistics: {Counter(y_test)}\")"
   ]
  },
  {
   "cell_type": "markdown",
   "id": "22d9803e",
   "metadata": {},
   "source": [
    "Выборка не сбалансирована. Проведем **undersampling**:"
   ]
  },
  {
   "cell_type": "code",
   "execution_count": 14,
   "id": "b1ba6597",
   "metadata": {},
   "outputs": [],
   "source": [
    "from imblearn.under_sampling import RandomUnderSampler"
   ]
  },
  {
   "cell_type": "code",
   "execution_count": 15,
   "id": "82f78c31",
   "metadata": {},
   "outputs": [
    {
     "name": "stdout",
     "output_type": "stream",
     "text": [
      "Training target statistics: Counter({0: 3543, 1: 3543})\n",
      "Testing target statistics: Counter({0: 13173, 1: 1746})\n"
     ]
    }
   ],
   "source": [
    "under_sampler = RandomUnderSampler(random_state=123)\n",
    "X_train, y_train = under_sampler.fit_resample(X_train, y_train)\n",
    "\n",
    "print(f\"Training target statistics: {Counter(y_train)}\")\n",
    "print(f\"Testing target statistics: {Counter(y_test)}\")"
   ]
  },
  {
   "cell_type": "markdown",
   "id": "ae30c6d8",
   "metadata": {},
   "source": [
    "### Стандартизация данных"
   ]
  },
  {
   "cell_type": "code",
   "execution_count": 16,
   "id": "79165f40",
   "metadata": {},
   "outputs": [],
   "source": [
    "from sklearn.preprocessing import StandardScaler"
   ]
  },
  {
   "cell_type": "code",
   "execution_count": 17,
   "id": "e143565d",
   "metadata": {},
   "outputs": [],
   "source": [
    "scaler = StandardScaler()\n",
    "scaler.fit(X_train)\n",
    "\n",
    "X_train = scaler.transform(X_train)\n",
    "X_test = scaler.transform(X_test)"
   ]
  },
  {
   "cell_type": "markdown",
   "id": "3dd979f5",
   "metadata": {},
   "source": [
    "# Деревья классификации CART"
   ]
  },
  {
   "cell_type": "code",
   "execution_count": 18,
   "id": "d19eeb82",
   "metadata": {},
   "outputs": [],
   "source": [
    "from sklearn.tree import DecisionTreeClassifier"
   ]
  },
  {
   "cell_type": "code",
   "execution_count": 19,
   "id": "22381a3c",
   "metadata": {},
   "outputs": [],
   "source": [
    "model_cart = DecisionTreeClassifier(random_state=42,\n",
    "                                    criterion='gini',\n",
    "                                    max_depth=6,\n",
    "                                    max_leaf_nodes=None,\n",
    "                                    min_samples_split=10,\n",
    "                                    min_samples_leaf=8,\n",
    "                                    min_impurity_decrease=0.001,\n",
    "                                    class_weight=None,\n",
    "                                    min_weight_fraction_leaf=0,\n",
    "                                    splitter='best',\n",
    "                                    max_features=None)"
   ]
  },
  {
   "cell_type": "markdown",
   "id": "55292798",
   "metadata": {},
   "source": [
    "В этом и последующих методах будем подбирать оптимальные значения параметров с помощью **GridSearchCV**, опираясь на метрику **f1-score**."
   ]
  },
  {
   "cell_type": "code",
   "execution_count": 20,
   "id": "bbf19852",
   "metadata": {},
   "outputs": [
    {
     "data": {
      "text/plain": [
       "GridSearchCV(cv=5,\n",
       "             estimator=DecisionTreeClassifier(max_depth=6,\n",
       "                                              min_impurity_decrease=0.001,\n",
       "                                              min_samples_leaf=8,\n",
       "                                              min_samples_split=10,\n",
       "                                              min_weight_fraction_leaf=0,\n",
       "                                              random_state=42),\n",
       "             n_jobs=-1,\n",
       "             param_grid={'max_depth': [3, 4, 6], 'min_samples_leaf': [2, 4, 8],\n",
       "                         'min_samples_split': [8, 10, 14]},\n",
       "             scoring='f1')"
      ]
     },
     "execution_count": 20,
     "metadata": {},
     "output_type": "execute_result"
    }
   ],
   "source": [
    "#   Определяем интересные значения гиперпараметров\n",
    "params_set = {\n",
    "    'max_depth': [3, 4, 6],\n",
    "    'min_samples_leaf': [2, 4, 8],\n",
    "    'min_samples_split': [8, 10, 14]\n",
    "}\n",
    "\n",
    "grid_CV_cart = GridSearchCV(estimator=model_cart,\n",
    "                            param_grid=params_set,\n",
    "                            scoring='f1',\n",
    "                            cv=5,\n",
    "                            n_jobs=-1)\n",
    "\n",
    "#   Обучение на обучающей выборке\n",
    "grid_CV_cart.fit(X_train, y_train)"
   ]
  },
  {
   "cell_type": "code",
   "execution_count": 21,
   "id": "6c7ba35f",
   "metadata": {},
   "outputs": [
    {
     "name": "stdout",
     "output_type": "stream",
     "text": [
      "Лучшие значения гиперпараметров:\n",
      " {'max_depth': 6, 'min_samples_leaf': 2, 'min_samples_split': 8}\n"
     ]
    }
   ],
   "source": [
    "best_hyperparams_cart = grid_CV_cart.best_params_\n",
    "print('Лучшие значения гиперпараметров:\\n', best_hyperparams_cart)"
   ]
  },
  {
   "cell_type": "code",
   "execution_count": 22,
   "id": "e713047e",
   "metadata": {},
   "outputs": [],
   "source": [
    "# Лучшая модель\n",
    "best_model_cart = grid_CV_cart.best_estimator_"
   ]
  },
  {
   "cell_type": "markdown",
   "id": "d4474edb",
   "metadata": {},
   "source": [
    "## Оценка классификации"
   ]
  },
  {
   "cell_type": "code",
   "execution_count": 23,
   "id": "7515a258",
   "metadata": {},
   "outputs": [],
   "source": [
    "y_pred_test = best_model_cart.predict(X_test)"
   ]
  },
  {
   "cell_type": "code",
   "execution_count": 24,
   "id": "f8be15fc",
   "metadata": {},
   "outputs": [
    {
     "name": "stdout",
     "output_type": "stream",
     "text": [
      "Таблица сопряженности для тестовой выборки:\n"
     ]
    },
    {
     "data": {
      "text/html": [
       "<div>\n",
       "<style scoped>\n",
       "    .dataframe tbody tr th:only-of-type {\n",
       "        vertical-align: middle;\n",
       "    }\n",
       "\n",
       "    .dataframe tbody tr th {\n",
       "        vertical-align: top;\n",
       "    }\n",
       "\n",
       "    .dataframe thead th {\n",
       "        text-align: right;\n",
       "    }\n",
       "</style>\n",
       "<table border=\"1\" class=\"dataframe\">\n",
       "  <thead>\n",
       "    <tr style=\"text-align: right;\">\n",
       "      <th></th>\n",
       "      <th>0</th>\n",
       "      <th>1</th>\n",
       "    </tr>\n",
       "  </thead>\n",
       "  <tbody>\n",
       "    <tr>\n",
       "      <th>0</th>\n",
       "      <td>10450</td>\n",
       "      <td>2723</td>\n",
       "    </tr>\n",
       "    <tr>\n",
       "      <th>1</th>\n",
       "      <td>339</td>\n",
       "      <td>1407</td>\n",
       "    </tr>\n",
       "  </tbody>\n",
       "</table>\n",
       "</div>"
      ],
      "text/plain": [
       "       0     1\n",
       "0  10450  2723\n",
       "1    339  1407"
      ]
     },
     "execution_count": 24,
     "metadata": {},
     "output_type": "execute_result"
    }
   ],
   "source": [
    "print('Таблица сопряженности для тестовой выборки:')\n",
    "conf_mat = confusion_matrix(y_test, y_pred_test)\n",
    "conf_mat_test = pd.DataFrame(conf_mat,\n",
    "                             index=best_model_cart.classes_,\n",
    "                             columns=best_model_cart.classes_)\n",
    "conf_mat_test"
   ]
  },
  {
   "cell_type": "code",
   "execution_count": 25,
   "id": "719566eb",
   "metadata": {},
   "outputs": [
    {
     "name": "stdout",
     "output_type": "stream",
     "text": [
      "              precision    recall  f1-score   support\n",
      "\n",
      "           0       0.97      0.79      0.87     13173\n",
      "           1       0.34      0.81      0.48      1746\n",
      "\n",
      "    accuracy                           0.79     14919\n",
      "   macro avg       0.65      0.80      0.68     14919\n",
      "weighted avg       0.90      0.79      0.83     14919\n",
      "\n"
     ]
    }
   ],
   "source": [
    "print(classification_report(y_test, y_pred_test))"
   ]
  },
  {
   "cell_type": "code",
   "execution_count": 26,
   "id": "2687a0aa",
   "metadata": {},
   "outputs": [
    {
     "name": "stdout",
     "output_type": "stream",
     "text": [
      "CART weighted avg F1-score: 0.826\n"
     ]
    }
   ],
   "source": [
    "print('CART weighted avg F1-score:',\n",
    "      round(f1_score(y_test, y_pred_test, average='weighted'), 3))"
   ]
  },
  {
   "cell_type": "markdown",
   "id": "8295f5e2",
   "metadata": {},
   "source": [
    "# Random forest"
   ]
  },
  {
   "cell_type": "code",
   "execution_count": 27,
   "id": "157b033f",
   "metadata": {},
   "outputs": [],
   "source": [
    "from sklearn.ensemble import RandomForestClassifier"
   ]
  },
  {
   "cell_type": "code",
   "execution_count": 28,
   "id": "08e52a4d",
   "metadata": {},
   "outputs": [],
   "source": [
    "model_rfc = RandomForestClassifier(random_state=42,\n",
    "                                   n_estimators=80,\n",
    "                                   criterion='gini',\n",
    "                                   max_depth=5,\n",
    "                                   max_features='auto',\n",
    "                                   max_leaf_nodes=None,\n",
    "                                   min_impurity_decrease=0.001,\n",
    "                                   min_samples_leaf=10,\n",
    "                                   min_samples_split=15,\n",
    "                                   min_weight_fraction_leaf=0.0,\n",
    "                                   verbose=1,\n",
    "                                   oob_score=True,\n",
    "                                   warm_start=False,\n",
    "                                   class_weight=None)"
   ]
  },
  {
   "cell_type": "code",
   "execution_count": 29,
   "id": "f9d4858a",
   "metadata": {},
   "outputs": [],
   "source": [
    "#   Определяем интересные значения гиперпараметров\n",
    "params_set = {\n",
    "    'n_estimators': [30, 40, 50, 100],\n",
    "    'max_depth': [4, 5, 6],\n",
    "    \"max_features\": [1, 3, 10],\n",
    "    \"min_samples_split\": [3, 5, 10],\n",
    "}\n",
    "\n",
    "grid_CV_rfc = GridSearchCV(model_rfc,\n",
    "                           param_grid=params_set,\n",
    "                           cv=2,\n",
    "                           scoring='f1',\n",
    "                           error_score='raise',\n",
    "                           refit=True,\n",
    "                           pre_dispatch=None,\n",
    "                           verbose=0)"
   ]
  },
  {
   "cell_type": "code",
   "execution_count": 30,
   "id": "c32f20a8",
   "metadata": {
    "scrolled": true
   },
   "outputs": [
    {
     "data": {
      "text/plain": [
       "GridSearchCV(cv=2, error_score='raise',\n",
       "             estimator=RandomForestClassifier(max_depth=5,\n",
       "                                              min_impurity_decrease=0.001,\n",
       "                                              min_samples_leaf=10,\n",
       "                                              min_samples_split=15,\n",
       "                                              n_estimators=80, oob_score=True,\n",
       "                                              random_state=42, verbose=1),\n",
       "             param_grid={'max_depth': [4, 5, 6], 'max_features': [1, 3, 10],\n",
       "                         'min_samples_split': [3, 5, 10],\n",
       "                         'n_estimators': [30, 40, 50, 100]},\n",
       "             pre_dispatch=None, scoring='f1')"
      ]
     },
     "execution_count": 30,
     "metadata": {},
     "output_type": "execute_result"
    }
   ],
   "source": [
    "%%capture --no-display\n",
    "\n",
    "#   Обучение на обучающей выборке\n",
    "grid_CV_rfc.fit(X_train, y_train)"
   ]
  },
  {
   "cell_type": "code",
   "execution_count": 31,
   "id": "01e7b089",
   "metadata": {},
   "outputs": [
    {
     "name": "stdout",
     "output_type": "stream",
     "text": [
      "Лучшие значения гиперпараметров:\n",
      " {'max_depth': 6, 'max_features': 3, 'min_samples_split': 3, 'n_estimators': 100}\n"
     ]
    }
   ],
   "source": [
    "best_hyperparams_rfc = grid_CV_rfc.best_params_\n",
    "print('Лучшие значения гиперпараметров:\\n', best_hyperparams_rfc)"
   ]
  },
  {
   "cell_type": "code",
   "execution_count": 32,
   "id": "4ab622f6",
   "metadata": {},
   "outputs": [],
   "source": [
    "# Лучшая модель\n",
    "best_model_rfc = grid_CV_rfc.best_estimator_"
   ]
  },
  {
   "cell_type": "markdown",
   "id": "098731cb",
   "metadata": {},
   "source": [
    "## Оценка классификации"
   ]
  },
  {
   "cell_type": "code",
   "execution_count": 33,
   "id": "8e98961c",
   "metadata": {},
   "outputs": [
    {
     "name": "stderr",
     "output_type": "stream",
     "text": [
      "[Parallel(n_jobs=1)]: Using backend SequentialBackend with 1 concurrent workers.\n",
      "[Parallel(n_jobs=1)]: Done 100 out of 100 | elapsed:    0.0s finished\n"
     ]
    }
   ],
   "source": [
    "y_pred_test = best_model_rfc.predict(X_test)"
   ]
  },
  {
   "cell_type": "code",
   "execution_count": 34,
   "id": "0dcad6cc",
   "metadata": {},
   "outputs": [
    {
     "name": "stdout",
     "output_type": "stream",
     "text": [
      "Таблица сопряженности для тестовой выборки:\n"
     ]
    },
    {
     "data": {
      "text/html": [
       "<div>\n",
       "<style scoped>\n",
       "    .dataframe tbody tr th:only-of-type {\n",
       "        vertical-align: middle;\n",
       "    }\n",
       "\n",
       "    .dataframe tbody tr th {\n",
       "        vertical-align: top;\n",
       "    }\n",
       "\n",
       "    .dataframe thead th {\n",
       "        text-align: right;\n",
       "    }\n",
       "</style>\n",
       "<table border=\"1\" class=\"dataframe\">\n",
       "  <thead>\n",
       "    <tr style=\"text-align: right;\">\n",
       "      <th></th>\n",
       "      <th>0</th>\n",
       "      <th>1</th>\n",
       "    </tr>\n",
       "  </thead>\n",
       "  <tbody>\n",
       "    <tr>\n",
       "      <th>0</th>\n",
       "      <td>10427</td>\n",
       "      <td>2746</td>\n",
       "    </tr>\n",
       "    <tr>\n",
       "      <th>1</th>\n",
       "      <td>244</td>\n",
       "      <td>1502</td>\n",
       "    </tr>\n",
       "  </tbody>\n",
       "</table>\n",
       "</div>"
      ],
      "text/plain": [
       "       0     1\n",
       "0  10427  2746\n",
       "1    244  1502"
      ]
     },
     "execution_count": 34,
     "metadata": {},
     "output_type": "execute_result"
    }
   ],
   "source": [
    "print('Таблица сопряженности для тестовой выборки:')\n",
    "conf_mat = confusion_matrix(y_test, y_pred_test)\n",
    "conf_mat_test = pd.DataFrame(conf_mat,\n",
    "                             index=best_model_cart.classes_,\n",
    "                             columns=best_model_cart.classes_)\n",
    "conf_mat_test"
   ]
  },
  {
   "cell_type": "code",
   "execution_count": 35,
   "id": "44a03f96",
   "metadata": {},
   "outputs": [
    {
     "name": "stdout",
     "output_type": "stream",
     "text": [
      "              precision    recall  f1-score   support\n",
      "\n",
      "           0       0.98      0.79      0.87     13173\n",
      "           1       0.35      0.86      0.50      1746\n",
      "\n",
      "    accuracy                           0.80     14919\n",
      "   macro avg       0.67      0.83      0.69     14919\n",
      "weighted avg       0.90      0.80      0.83     14919\n",
      "\n"
     ]
    }
   ],
   "source": [
    "print(classification_report(y_test, y_pred_test))"
   ]
  },
  {
   "cell_type": "code",
   "execution_count": 36,
   "id": "a3d51ab0",
   "metadata": {},
   "outputs": [
    {
     "name": "stdout",
     "output_type": "stream",
     "text": [
      "RFC weighted avg F1-score: 0.831\n"
     ]
    }
   ],
   "source": [
    "print('RFC weighted avg F1-score:',\n",
    "      round(f1_score(y_test, y_pred_test, average='weighted'), 3))"
   ]
  },
  {
   "cell_type": "markdown",
   "id": "ee311124",
   "metadata": {},
   "source": [
    "# Gradient boosting"
   ]
  },
  {
   "cell_type": "code",
   "execution_count": 37,
   "id": "e159a5d8",
   "metadata": {},
   "outputs": [],
   "source": [
    "from sklearn.ensemble import GradientBoostingClassifier"
   ]
  },
  {
   "cell_type": "code",
   "execution_count": 38,
   "id": "8054a133",
   "metadata": {},
   "outputs": [],
   "source": [
    "model_gbc = GradientBoostingClassifier(random_state=42,\n",
    "                                   subsample=0.66,\n",
    "                                   max_features='sqrt',\n",
    "                                   n_estimators=500,\n",
    "                                   loss='deviance',\n",
    "                                   learning_rate=0.01,\n",
    "                                   criterion='friedman_mse',\n",
    "                                   min_impurity_decrease=0.001,\n",
    "                                   min_samples_leaf=5,\n",
    "                                   min_samples_split=10,\n",
    "                                   max_depth=5,\n",
    "                                   verbose=0)"
   ]
  },
  {
   "cell_type": "code",
   "execution_count": 39,
   "id": "8b0c60cb",
   "metadata": {},
   "outputs": [
    {
     "data": {
      "text/plain": [
       "GridSearchCV(cv=2, error_score='raise',\n",
       "             estimator=GradientBoostingClassifier(learning_rate=0.01,\n",
       "                                                  max_depth=5,\n",
       "                                                  max_features='sqrt',\n",
       "                                                  min_impurity_decrease=0.001,\n",
       "                                                  min_samples_leaf=5,\n",
       "                                                  min_samples_split=10,\n",
       "                                                  n_estimators=500,\n",
       "                                                  random_state=42,\n",
       "                                                  subsample=0.66),\n",
       "             param_grid={'learning_rate': [0.05, 0.1, 0.3],\n",
       "                         'max_depth': [3, 4, 6],\n",
       "                         'n_estimators': [100, 300, 500, 800, 1000]},\n",
       "             pre_dispatch=None, scoring='f1')"
      ]
     },
     "execution_count": 39,
     "metadata": {},
     "output_type": "execute_result"
    }
   ],
   "source": [
    "#   Определяем интересные значения гиперпараметров\n",
    "params_set = {\n",
    "    'n_estimators': [100, 300, 500, 800, 1000],\n",
    "    'max_depth': [3, 4, 6],\n",
    "    'learning_rate': [0.05, 0.1, 0.3]\n",
    "}\n",
    "\n",
    "grid_CV_gbc = GridSearchCV(model_gbc,\n",
    "                               param_grid=params_set,\n",
    "                               cv=2,\n",
    "                               scoring='f1',\n",
    "                               error_score='raise',\n",
    "                               refit=True,\n",
    "                               pre_dispatch=None,\n",
    "                               verbose=0)\n",
    "\n",
    "#   Обучение на обучающей выборке\n",
    "grid_CV_gbc.fit(X_train, y_train)"
   ]
  },
  {
   "cell_type": "code",
   "execution_count": 40,
   "id": "fc38b668",
   "metadata": {},
   "outputs": [
    {
     "name": "stdout",
     "output_type": "stream",
     "text": [
      "Лучшие значения гиперпараметров:\n",
      " {'learning_rate': 0.1, 'max_depth': 6, 'n_estimators': 800}\n"
     ]
    }
   ],
   "source": [
    "best_hyperparams_gbc = grid_CV_gbc.best_params_\n",
    "print('Лучшие значения гиперпараметров:\\n', best_hyperparams_gbc)"
   ]
  },
  {
   "cell_type": "code",
   "execution_count": 41,
   "id": "ba71be4b",
   "metadata": {},
   "outputs": [],
   "source": [
    "# Лучшая модель\n",
    "best_model_gbc = grid_CV_gbc.best_estimator_"
   ]
  },
  {
   "cell_type": "markdown",
   "id": "a92792d9",
   "metadata": {},
   "source": [
    "## Оценка классификации"
   ]
  },
  {
   "cell_type": "code",
   "execution_count": 42,
   "id": "2f867c4f",
   "metadata": {},
   "outputs": [],
   "source": [
    "y_pred_test = best_model_gbc.predict(X_test)"
   ]
  },
  {
   "cell_type": "code",
   "execution_count": 43,
   "id": "27569430",
   "metadata": {},
   "outputs": [
    {
     "name": "stdout",
     "output_type": "stream",
     "text": [
      "Таблица сопряженности для тестовой выборки:\n"
     ]
    },
    {
     "data": {
      "text/html": [
       "<div>\n",
       "<style scoped>\n",
       "    .dataframe tbody tr th:only-of-type {\n",
       "        vertical-align: middle;\n",
       "    }\n",
       "\n",
       "    .dataframe tbody tr th {\n",
       "        vertical-align: top;\n",
       "    }\n",
       "\n",
       "    .dataframe thead th {\n",
       "        text-align: right;\n",
       "    }\n",
       "</style>\n",
       "<table border=\"1\" class=\"dataframe\">\n",
       "  <thead>\n",
       "    <tr style=\"text-align: right;\">\n",
       "      <th></th>\n",
       "      <th>0</th>\n",
       "      <th>1</th>\n",
       "    </tr>\n",
       "  </thead>\n",
       "  <tbody>\n",
       "    <tr>\n",
       "      <th>0</th>\n",
       "      <td>11043</td>\n",
       "      <td>2130</td>\n",
       "    </tr>\n",
       "    <tr>\n",
       "      <th>1</th>\n",
       "      <td>230</td>\n",
       "      <td>1516</td>\n",
       "    </tr>\n",
       "  </tbody>\n",
       "</table>\n",
       "</div>"
      ],
      "text/plain": [
       "       0     1\n",
       "0  11043  2130\n",
       "1    230  1516"
      ]
     },
     "execution_count": 43,
     "metadata": {},
     "output_type": "execute_result"
    }
   ],
   "source": [
    "print('Таблица сопряженности для тестовой выборки:')\n",
    "conf_mat = confusion_matrix(y_test, y_pred_test)\n",
    "conf_mat_test = pd.DataFrame(conf_mat,\n",
    "                             index=best_model_cart.classes_,\n",
    "                             columns=best_model_cart.classes_)\n",
    "conf_mat_test"
   ]
  },
  {
   "cell_type": "code",
   "execution_count": 44,
   "id": "61facd0f",
   "metadata": {},
   "outputs": [
    {
     "name": "stdout",
     "output_type": "stream",
     "text": [
      "              precision    recall  f1-score   support\n",
      "\n",
      "           0       0.98      0.84      0.90     13173\n",
      "           1       0.42      0.87      0.56      1746\n",
      "\n",
      "    accuracy                           0.84     14919\n",
      "   macro avg       0.70      0.85      0.73     14919\n",
      "weighted avg       0.91      0.84      0.86     14919\n",
      "\n"
     ]
    }
   ],
   "source": [
    "print(classification_report(y_test, y_pred_test))"
   ]
  },
  {
   "cell_type": "code",
   "execution_count": 45,
   "id": "6b19eb6b",
   "metadata": {},
   "outputs": [
    {
     "name": "stdout",
     "output_type": "stream",
     "text": [
      "GBC weighted avg F1-score: 0.864\n"
     ]
    }
   ],
   "source": [
    "print('GBC weighted avg F1-score:',\n",
    "      round(f1_score(y_test, y_pred_test, average='weighted'), 3))"
   ]
  },
  {
   "cell_type": "markdown",
   "id": "65ecdac8",
   "metadata": {},
   "source": [
    "# Вывод"
   ]
  },
  {
   "cell_type": "markdown",
   "id": "5ec71433",
   "metadata": {},
   "source": [
    "Результаты методов классифкации на тестовом множестве:\n",
    "1. **Деревья решений CART** weighted avg F1-score: 0.826\n",
    "2. **Random forest** weighted avg F1-score: 0.831\n",
    "3. **Gradient boosting** weighted avg F1-score: 0.864\n",
    "\n",
    "Исходя из предложенных результатов, можно сделать вывод, что лучше всего с задачей справляется метод **Gradient boosting** с метрикой **weighted avg F1-score=0.864**."
   ]
  },
  {
   "cell_type": "code",
   "execution_count": null,
   "id": "b21cc68c",
   "metadata": {},
   "outputs": [],
   "source": []
  }
 ],
 "metadata": {
  "kernelspec": {
   "display_name": "Python 3",
   "language": "python",
   "name": "python3"
  },
  "language_info": {
   "codemirror_mode": {
    "name": "ipython",
    "version": 3
   },
   "file_extension": ".py",
   "mimetype": "text/x-python",
   "name": "python",
   "nbconvert_exporter": "python",
   "pygments_lexer": "ipython3",
   "version": "3.8.8"
  },
  "toc": {
   "base_numbering": 1,
   "nav_menu": {},
   "number_sections": true,
   "sideBar": true,
   "skip_h1_title": false,
   "title_cell": "Table of Contents",
   "title_sidebar": "Contents",
   "toc_cell": false,
   "toc_position": {},
   "toc_section_display": true,
   "toc_window_display": true
  },
  "varInspector": {
   "cols": {
    "lenName": 16,
    "lenType": 16,
    "lenVar": 40
   },
   "kernels_config": {
    "python": {
     "delete_cmd_postfix": "",
     "delete_cmd_prefix": "del ",
     "library": "var_list.py",
     "varRefreshCmd": "print(var_dic_list())"
    },
    "r": {
     "delete_cmd_postfix": ") ",
     "delete_cmd_prefix": "rm(",
     "library": "var_list.r",
     "varRefreshCmd": "cat(var_dic_list()) "
    }
   },
   "types_to_exclude": [
    "module",
    "function",
    "builtin_function_or_method",
    "instance",
    "_Feature"
   ],
   "window_display": false
  }
 },
 "nbformat": 4,
 "nbformat_minor": 5
}
